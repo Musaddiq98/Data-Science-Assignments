{
  "nbformat": 4,
  "nbformat_minor": 0,
  "metadata": {
    "colab": {
      "provenance": [],
      "authorship_tag": "ABX9TyMSf0VkWGVEcoe/wHSNfSrF",
      "include_colab_link": true
    },
    "kernelspec": {
      "name": "python3",
      "display_name": "Python 3"
    },
    "language_info": {
      "name": "python"
    }
  },
  "cells": [
    {
      "cell_type": "markdown",
      "metadata": {
        "id": "view-in-github",
        "colab_type": "text"
      },
      "source": [
        "<a href=\"https://colab.research.google.com/github/Musaddiq98/Data-Science-Assignments/blob/main/Basic_Stats_Level_2%5BSet_2%5D.ipynb\" target=\"_parent\"><img src=\"https://colab.research.google.com/assets/colab-badge.svg\" alt=\"Open In Colab\"/></a>"
      ]
    },
    {
      "cell_type": "markdown",
      "source": [
        "**Answer-1**"
      ],
      "metadata": {
        "id": "Vi8TMK0v5RMa"
      }
    },
    {
      "cell_type": "code",
      "source": [
        "import numpy as np\n",
        "import scipy.stats as stats\n",
        "\n",
        "# Set the mean and standard deviation of the normal distribution\n",
        "mu = 45\n",
        "sigma = 8\n",
        "\n",
        "# Calculate the time that the service manager cannot meet his commitment\n",
        "service_time_exceeds_1_hour = stats.norm(mu, sigma).rvs(10000) > 60\n",
        "\n",
        "# Print the probability that the service manager cannot meet his commitment\n",
        "print(\"Probability:\", np.mean(service_time_exceeds_1_hour))\n"
      ],
      "metadata": {
        "colab": {
          "base_uri": "https://localhost:8080/"
        },
        "id": "2bHKM9Qu9kWo",
        "outputId": "3eaa09ca-f60a-4186-ee72-854ebac7485d"
      },
      "execution_count": 2,
      "outputs": [
        {
          "output_type": "stream",
          "name": "stdout",
          "text": [
            "Probability: 0.0281\n"
          ]
        }
      ]
    },
    {
      "cell_type": "markdown",
      "source": [
        "**Answer- 3**"
      ],
      "metadata": {
        "id": "uaEAWMWo-oGm"
      }
    },
    {
      "cell_type": "code",
      "source": [
        "import numpy as np\n",
        "import scipy.stats as stats\n",
        "\n",
        "# Set the mean and standard deviation of the two normal distributions\n",
        "mu = 0\n",
        "sigma = 1\n",
        "\n",
        "# Generate two samples from the two normal distributions\n",
        "x1 = stats.norm(mu, sigma).rvs(1000)\n",
        "x2 = stats.norm(mu, sigma).rvs(1000)\n",
        "\n",
        "# Calculate 2X1 and X1 + X2\n",
        "two_x1 = 2 * x1\n",
        "x1_plus_x2 = x1 + x2\n",
        "\n",
        "# Print the mean and standard deviation of 2X1 and X1 + X2\n",
        "print(\"Mean of 2X1:\", np.mean(two_x1))\n",
        "print(\"Standard deviation of 2X1:\", np.std(two_x1))\n",
        "print(\"Mean of X1 + X2:\", np.mean(x1_plus_x2))\n",
        "print(\"Standard deviation of X1 + X2:\", np.std(x1_plus_x2))\n"
      ],
      "metadata": {
        "colab": {
          "base_uri": "https://localhost:8080/"
        },
        "id": "np-zT9L7-WcG",
        "outputId": "2ea7bfaa-0df1-483a-df42-c96b9960cf7b"
      },
      "execution_count": 4,
      "outputs": [
        {
          "output_type": "stream",
          "name": "stdout",
          "text": [
            "Mean of 2X1: -0.09959456853977985\n",
            "Standard deviation of 2X1: 2.0136020489626762\n",
            "Mean of X1 + X2: -0.03532482208873939\n",
            "Standard deviation of X1 + X2: 1.408634941903671\n"
          ]
        }
      ]
    },
    {
      "cell_type": "markdown",
      "source": [
        "**Answer- 5**"
      ],
      "metadata": {
        "id": "crV7K08dTSdT"
      }
    },
    {
      "cell_type": "code",
      "source": [
        "import numpy as np\n",
        "import scipy.stats as stats\n",
        "\n",
        "# Set the mean and standard deviation of the profit distributions\n",
        "mu1 = 5\n",
        "sigma1 = 32\n",
        "mu2 = 7\n",
        "sigma2 = 42\n",
        "\n",
        "# Calculate the mean and standard deviation of the total profit\n",
        "mu = mu1 + mu2\n",
        "sigma = sigma1 + sigma2\n",
        "\n",
        "# Calculate the two values that are 2.5% from the mean, in either direction\n",
        "z = 1.96\n",
        "profit_range = mu + z * sigma, mu - z * sigma\n",
        "\n",
        "# Convert the profit range to Rupees\n",
        "profit_range_in_rupees = profit_range * 45\n",
        "\n",
        "# Calculate the 5th percentile of the total profit\n",
        "z = -1.645\n",
        "fifth_percentile = mu + z * sigma\n",
        "fifth_percentile_in_rupees = fifth_percentile * 45\n",
        "\n",
        "# Print the profit range and the 5th percentile\n",
        "print(\"Profit range in Rupees:\", profit_range_in_rupees)\n",
        "print(\"5th percentile in Rupees:\", fifth_percentile_in_rupees)\n"
      ],
      "metadata": {
        "colab": {
          "base_uri": "https://localhost:8080/"
        },
        "id": "L4bLz7fF_fd8",
        "outputId": "1a8d3c05-40c3-4a91-939b-48699281a507"
      },
      "execution_count": 6,
      "outputs": [
        {
          "output_type": "stream",
          "name": "stdout",
          "text": [
            "Profit range in Rupees: (157.04, -133.04, 157.04, -133.04, 157.04, -133.04, 157.04, -133.04, 157.04, -133.04, 157.04, -133.04, 157.04, -133.04, 157.04, -133.04, 157.04, -133.04, 157.04, -133.04, 157.04, -133.04, 157.04, -133.04, 157.04, -133.04, 157.04, -133.04, 157.04, -133.04, 157.04, -133.04, 157.04, -133.04, 157.04, -133.04, 157.04, -133.04, 157.04, -133.04, 157.04, -133.04, 157.04, -133.04, 157.04, -133.04, 157.04, -133.04, 157.04, -133.04, 157.04, -133.04, 157.04, -133.04, 157.04, -133.04, 157.04, -133.04, 157.04, -133.04, 157.04, -133.04, 157.04, -133.04, 157.04, -133.04, 157.04, -133.04, 157.04, -133.04, 157.04, -133.04, 157.04, -133.04, 157.04, -133.04, 157.04, -133.04, 157.04, -133.04, 157.04, -133.04, 157.04, -133.04, 157.04, -133.04, 157.04, -133.04, 157.04, -133.04)\n",
            "5th percentile in Rupees: -4937.85\n"
          ]
        }
      ]
    }
  ]
}