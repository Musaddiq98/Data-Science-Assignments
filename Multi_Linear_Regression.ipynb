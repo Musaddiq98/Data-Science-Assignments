{
  "cells": [
    {
      "cell_type": "markdown",
      "metadata": {
        "id": "view-in-github",
        "colab_type": "text"
      },
      "source": [
        "<a href=\"https://colab.research.google.com/github/Musaddiq98/Data-Science-Assignments/blob/main/Multi_Linear_Regression.ipynb\" target=\"_parent\"><img src=\"https://colab.research.google.com/assets/colab-badge.svg\" alt=\"Open In Colab\"/></a>"
      ]
    },
    {
      "cell_type": "markdown",
      "id": "653777aa",
      "metadata": {
        "id": "653777aa"
      },
      "source": [
        "# Prediction model for profit of 50_startups data"
      ]
    },
    {
      "cell_type": "code",
      "execution_count": null,
      "id": "84af37ac",
      "metadata": {
        "id": "84af37ac"
      },
      "outputs": [],
      "source": [
        "import pandas as pd\n",
        "import numpy as np\n",
        "import matplotlib.pyplot as plt\n",
        "import seaborn as sns\n",
        "import statsmodels.formula.api as smf\n",
        "import statsmodels.api as sm\n",
        "from statsmodels.graphics.regressionplots import influence_plot"
      ]
    },
    {
      "cell_type": "code",
      "execution_count": null,
      "id": "78fd948d",
      "metadata": {
        "id": "78fd948d",
        "outputId": "9d2cba1f-922e-4abf-d99e-d9119a4b3619",
        "colab": {
          "base_uri": "https://localhost:8080/",
          "height": 321
        }
      },
      "outputs": [
        {
          "output_type": "error",
          "ename": "FileNotFoundError",
          "evalue": "ignored",
          "traceback": [
            "\u001b[0;31m---------------------------------------------------------------------------\u001b[0m",
            "\u001b[0;31mFileNotFoundError\u001b[0m                         Traceback (most recent call last)",
            "\u001b[0;32m<ipython-input-2-28e9c3fc8773>\u001b[0m in \u001b[0;36m<cell line: 1>\u001b[0;34m()\u001b[0m\n\u001b[0;32m----> 1\u001b[0;31m \u001b[0mpt\u001b[0m\u001b[0;34m=\u001b[0m\u001b[0mpd\u001b[0m\u001b[0;34m.\u001b[0m\u001b[0mread_csv\u001b[0m\u001b[0;34m(\u001b[0m\u001b[0;34m'50_Startups.csv'\u001b[0m\u001b[0;34m)\u001b[0m\u001b[0;34m\u001b[0m\u001b[0;34m\u001b[0m\u001b[0m\n\u001b[0m",
            "\u001b[0;32m/usr/local/lib/python3.10/dist-packages/pandas/util/_decorators.py\u001b[0m in \u001b[0;36mwrapper\u001b[0;34m(*args, **kwargs)\u001b[0m\n\u001b[1;32m    209\u001b[0m                 \u001b[0;32melse\u001b[0m\u001b[0;34m:\u001b[0m\u001b[0;34m\u001b[0m\u001b[0;34m\u001b[0m\u001b[0m\n\u001b[1;32m    210\u001b[0m                     \u001b[0mkwargs\u001b[0m\u001b[0;34m[\u001b[0m\u001b[0mnew_arg_name\u001b[0m\u001b[0;34m]\u001b[0m \u001b[0;34m=\u001b[0m \u001b[0mnew_arg_value\u001b[0m\u001b[0;34m\u001b[0m\u001b[0;34m\u001b[0m\u001b[0m\n\u001b[0;32m--> 211\u001b[0;31m             \u001b[0;32mreturn\u001b[0m \u001b[0mfunc\u001b[0m\u001b[0;34m(\u001b[0m\u001b[0;34m*\u001b[0m\u001b[0margs\u001b[0m\u001b[0;34m,\u001b[0m \u001b[0;34m**\u001b[0m\u001b[0mkwargs\u001b[0m\u001b[0;34m)\u001b[0m\u001b[0;34m\u001b[0m\u001b[0;34m\u001b[0m\u001b[0m\n\u001b[0m\u001b[1;32m    212\u001b[0m \u001b[0;34m\u001b[0m\u001b[0m\n\u001b[1;32m    213\u001b[0m         \u001b[0;32mreturn\u001b[0m \u001b[0mcast\u001b[0m\u001b[0;34m(\u001b[0m\u001b[0mF\u001b[0m\u001b[0;34m,\u001b[0m \u001b[0mwrapper\u001b[0m\u001b[0;34m)\u001b[0m\u001b[0;34m\u001b[0m\u001b[0;34m\u001b[0m\u001b[0m\n",
            "\u001b[0;32m/usr/local/lib/python3.10/dist-packages/pandas/util/_decorators.py\u001b[0m in \u001b[0;36mwrapper\u001b[0;34m(*args, **kwargs)\u001b[0m\n\u001b[1;32m    329\u001b[0m                     \u001b[0mstacklevel\u001b[0m\u001b[0;34m=\u001b[0m\u001b[0mfind_stack_level\u001b[0m\u001b[0;34m(\u001b[0m\u001b[0;34m)\u001b[0m\u001b[0;34m,\u001b[0m\u001b[0;34m\u001b[0m\u001b[0;34m\u001b[0m\u001b[0m\n\u001b[1;32m    330\u001b[0m                 )\n\u001b[0;32m--> 331\u001b[0;31m             \u001b[0;32mreturn\u001b[0m \u001b[0mfunc\u001b[0m\u001b[0;34m(\u001b[0m\u001b[0;34m*\u001b[0m\u001b[0margs\u001b[0m\u001b[0;34m,\u001b[0m \u001b[0;34m**\u001b[0m\u001b[0mkwargs\u001b[0m\u001b[0;34m)\u001b[0m\u001b[0;34m\u001b[0m\u001b[0;34m\u001b[0m\u001b[0m\n\u001b[0m\u001b[1;32m    332\u001b[0m \u001b[0;34m\u001b[0m\u001b[0m\n\u001b[1;32m    333\u001b[0m         \u001b[0;31m# error: \"Callable[[VarArg(Any), KwArg(Any)], Any]\" has no\u001b[0m\u001b[0;34m\u001b[0m\u001b[0;34m\u001b[0m\u001b[0m\n",
            "\u001b[0;32m/usr/local/lib/python3.10/dist-packages/pandas/io/parsers/readers.py\u001b[0m in \u001b[0;36mread_csv\u001b[0;34m(filepath_or_buffer, sep, delimiter, header, names, index_col, usecols, squeeze, prefix, mangle_dupe_cols, dtype, engine, converters, true_values, false_values, skipinitialspace, skiprows, skipfooter, nrows, na_values, keep_default_na, na_filter, verbose, skip_blank_lines, parse_dates, infer_datetime_format, keep_date_col, date_parser, dayfirst, cache_dates, iterator, chunksize, compression, thousands, decimal, lineterminator, quotechar, quoting, doublequote, escapechar, comment, encoding, encoding_errors, dialect, error_bad_lines, warn_bad_lines, on_bad_lines, delim_whitespace, low_memory, memory_map, float_precision, storage_options)\u001b[0m\n\u001b[1;32m    948\u001b[0m     \u001b[0mkwds\u001b[0m\u001b[0;34m.\u001b[0m\u001b[0mupdate\u001b[0m\u001b[0;34m(\u001b[0m\u001b[0mkwds_defaults\u001b[0m\u001b[0;34m)\u001b[0m\u001b[0;34m\u001b[0m\u001b[0;34m\u001b[0m\u001b[0m\n\u001b[1;32m    949\u001b[0m \u001b[0;34m\u001b[0m\u001b[0m\n\u001b[0;32m--> 950\u001b[0;31m     \u001b[0;32mreturn\u001b[0m \u001b[0m_read\u001b[0m\u001b[0;34m(\u001b[0m\u001b[0mfilepath_or_buffer\u001b[0m\u001b[0;34m,\u001b[0m \u001b[0mkwds\u001b[0m\u001b[0;34m)\u001b[0m\u001b[0;34m\u001b[0m\u001b[0;34m\u001b[0m\u001b[0m\n\u001b[0m\u001b[1;32m    951\u001b[0m \u001b[0;34m\u001b[0m\u001b[0m\n\u001b[1;32m    952\u001b[0m \u001b[0;34m\u001b[0m\u001b[0m\n",
            "\u001b[0;32m/usr/local/lib/python3.10/dist-packages/pandas/io/parsers/readers.py\u001b[0m in \u001b[0;36m_read\u001b[0;34m(filepath_or_buffer, kwds)\u001b[0m\n\u001b[1;32m    603\u001b[0m \u001b[0;34m\u001b[0m\u001b[0m\n\u001b[1;32m    604\u001b[0m     \u001b[0;31m# Create the parser.\u001b[0m\u001b[0;34m\u001b[0m\u001b[0;34m\u001b[0m\u001b[0m\n\u001b[0;32m--> 605\u001b[0;31m     \u001b[0mparser\u001b[0m \u001b[0;34m=\u001b[0m \u001b[0mTextFileReader\u001b[0m\u001b[0;34m(\u001b[0m\u001b[0mfilepath_or_buffer\u001b[0m\u001b[0;34m,\u001b[0m \u001b[0;34m**\u001b[0m\u001b[0mkwds\u001b[0m\u001b[0;34m)\u001b[0m\u001b[0;34m\u001b[0m\u001b[0;34m\u001b[0m\u001b[0m\n\u001b[0m\u001b[1;32m    606\u001b[0m \u001b[0;34m\u001b[0m\u001b[0m\n\u001b[1;32m    607\u001b[0m     \u001b[0;32mif\u001b[0m \u001b[0mchunksize\u001b[0m \u001b[0;32mor\u001b[0m \u001b[0miterator\u001b[0m\u001b[0;34m:\u001b[0m\u001b[0;34m\u001b[0m\u001b[0;34m\u001b[0m\u001b[0m\n",
            "\u001b[0;32m/usr/local/lib/python3.10/dist-packages/pandas/io/parsers/readers.py\u001b[0m in \u001b[0;36m__init__\u001b[0;34m(self, f, engine, **kwds)\u001b[0m\n\u001b[1;32m   1440\u001b[0m \u001b[0;34m\u001b[0m\u001b[0m\n\u001b[1;32m   1441\u001b[0m         \u001b[0mself\u001b[0m\u001b[0;34m.\u001b[0m\u001b[0mhandles\u001b[0m\u001b[0;34m:\u001b[0m \u001b[0mIOHandles\u001b[0m \u001b[0;34m|\u001b[0m \u001b[0;32mNone\u001b[0m \u001b[0;34m=\u001b[0m \u001b[0;32mNone\u001b[0m\u001b[0;34m\u001b[0m\u001b[0;34m\u001b[0m\u001b[0m\n\u001b[0;32m-> 1442\u001b[0;31m         \u001b[0mself\u001b[0m\u001b[0;34m.\u001b[0m\u001b[0m_engine\u001b[0m \u001b[0;34m=\u001b[0m \u001b[0mself\u001b[0m\u001b[0;34m.\u001b[0m\u001b[0m_make_engine\u001b[0m\u001b[0;34m(\u001b[0m\u001b[0mf\u001b[0m\u001b[0;34m,\u001b[0m \u001b[0mself\u001b[0m\u001b[0;34m.\u001b[0m\u001b[0mengine\u001b[0m\u001b[0;34m)\u001b[0m\u001b[0;34m\u001b[0m\u001b[0;34m\u001b[0m\u001b[0m\n\u001b[0m\u001b[1;32m   1443\u001b[0m \u001b[0;34m\u001b[0m\u001b[0m\n\u001b[1;32m   1444\u001b[0m     \u001b[0;32mdef\u001b[0m \u001b[0mclose\u001b[0m\u001b[0;34m(\u001b[0m\u001b[0mself\u001b[0m\u001b[0;34m)\u001b[0m \u001b[0;34m->\u001b[0m \u001b[0;32mNone\u001b[0m\u001b[0;34m:\u001b[0m\u001b[0;34m\u001b[0m\u001b[0;34m\u001b[0m\u001b[0m\n",
            "\u001b[0;32m/usr/local/lib/python3.10/dist-packages/pandas/io/parsers/readers.py\u001b[0m in \u001b[0;36m_make_engine\u001b[0;34m(self, f, engine)\u001b[0m\n\u001b[1;32m   1733\u001b[0m                 \u001b[0;32mif\u001b[0m \u001b[0;34m\"b\"\u001b[0m \u001b[0;32mnot\u001b[0m \u001b[0;32min\u001b[0m \u001b[0mmode\u001b[0m\u001b[0;34m:\u001b[0m\u001b[0;34m\u001b[0m\u001b[0;34m\u001b[0m\u001b[0m\n\u001b[1;32m   1734\u001b[0m                     \u001b[0mmode\u001b[0m \u001b[0;34m+=\u001b[0m \u001b[0;34m\"b\"\u001b[0m\u001b[0;34m\u001b[0m\u001b[0;34m\u001b[0m\u001b[0m\n\u001b[0;32m-> 1735\u001b[0;31m             self.handles = get_handle(\n\u001b[0m\u001b[1;32m   1736\u001b[0m                 \u001b[0mf\u001b[0m\u001b[0;34m,\u001b[0m\u001b[0;34m\u001b[0m\u001b[0;34m\u001b[0m\u001b[0m\n\u001b[1;32m   1737\u001b[0m                 \u001b[0mmode\u001b[0m\u001b[0;34m,\u001b[0m\u001b[0;34m\u001b[0m\u001b[0;34m\u001b[0m\u001b[0m\n",
            "\u001b[0;32m/usr/local/lib/python3.10/dist-packages/pandas/io/common.py\u001b[0m in \u001b[0;36mget_handle\u001b[0;34m(path_or_buf, mode, encoding, compression, memory_map, is_text, errors, storage_options)\u001b[0m\n\u001b[1;32m    854\u001b[0m         \u001b[0;32mif\u001b[0m \u001b[0mioargs\u001b[0m\u001b[0;34m.\u001b[0m\u001b[0mencoding\u001b[0m \u001b[0;32mand\u001b[0m \u001b[0;34m\"b\"\u001b[0m \u001b[0;32mnot\u001b[0m \u001b[0;32min\u001b[0m \u001b[0mioargs\u001b[0m\u001b[0;34m.\u001b[0m\u001b[0mmode\u001b[0m\u001b[0;34m:\u001b[0m\u001b[0;34m\u001b[0m\u001b[0;34m\u001b[0m\u001b[0m\n\u001b[1;32m    855\u001b[0m             \u001b[0;31m# Encoding\u001b[0m\u001b[0;34m\u001b[0m\u001b[0;34m\u001b[0m\u001b[0m\n\u001b[0;32m--> 856\u001b[0;31m             handle = open(\n\u001b[0m\u001b[1;32m    857\u001b[0m                 \u001b[0mhandle\u001b[0m\u001b[0;34m,\u001b[0m\u001b[0;34m\u001b[0m\u001b[0;34m\u001b[0m\u001b[0m\n\u001b[1;32m    858\u001b[0m                 \u001b[0mioargs\u001b[0m\u001b[0;34m.\u001b[0m\u001b[0mmode\u001b[0m\u001b[0;34m,\u001b[0m\u001b[0;34m\u001b[0m\u001b[0;34m\u001b[0m\u001b[0m\n",
            "\u001b[0;31mFileNotFoundError\u001b[0m: [Errno 2] No such file or directory: '50_Startups.csv'"
          ]
        }
      ],
      "source": [
        "pt=pd.read_csv('50_Startups.csv')"
      ]
    },
    {
      "cell_type": "code",
      "execution_count": null,
      "id": "81b3d7a4",
      "metadata": {
        "id": "81b3d7a4"
      },
      "outputs": [],
      "source": [
        "pt.shape"
      ]
    },
    {
      "cell_type": "code",
      "execution_count": null,
      "id": "c9a637e6",
      "metadata": {
        "id": "c9a637e6"
      },
      "outputs": [],
      "source": [
        "pt.head()"
      ]
    },
    {
      "cell_type": "code",
      "execution_count": null,
      "id": "f5e528bc",
      "metadata": {
        "id": "f5e528bc"
      },
      "outputs": [],
      "source": [
        "# EDA"
      ]
    },
    {
      "cell_type": "code",
      "execution_count": null,
      "id": "aac52493",
      "metadata": {
        "id": "aac52493"
      },
      "outputs": [],
      "source": [
        "pt.info()"
      ]
    },
    {
      "cell_type": "code",
      "execution_count": null,
      "id": "d3d3ebce",
      "metadata": {
        "id": "d3d3ebce"
      },
      "outputs": [],
      "source": [
        "pt[pt.duplicated()]\n",
        "# no data is duplicated"
      ]
    },
    {
      "cell_type": "code",
      "execution_count": null,
      "id": "a21e0ae7",
      "metadata": {
        "id": "a21e0ae7"
      },
      "outputs": [],
      "source": [
        "#corerlation analysis\n",
        "# correlation matrix\n",
        "pt.corr()"
      ]
    },
    {
      "cell_type": "code",
      "execution_count": null,
      "id": "5ff1f2df",
      "metadata": {
        "id": "5ff1f2df"
      },
      "outputs": [],
      "source": [
        "sns.set_style(style='darkgrid')\n",
        "sns.pairplot(pt)"
      ]
    },
    {
      "cell_type": "code",
      "execution_count": null,
      "id": "1ccb287a",
      "metadata": {
        "id": "1ccb287a"
      },
      "outputs": [],
      "source": [
        "#model building\n",
        "model1 = smf.ols('Profit~RnDSpend+Administration+MarketingSpend',data=pt).fit()"
      ]
    },
    {
      "cell_type": "code",
      "execution_count": null,
      "id": "5fb0f45e",
      "metadata": {
        "id": "5fb0f45e"
      },
      "outputs": [],
      "source": [
        "model1.params"
      ]
    },
    {
      "cell_type": "code",
      "execution_count": null,
      "id": "99e3ac1a",
      "metadata": {
        "id": "99e3ac1a"
      },
      "outputs": [],
      "source": [
        "model1.summary()"
      ]
    },
    {
      "cell_type": "code",
      "execution_count": null,
      "id": "da2fc32c",
      "metadata": {
        "id": "da2fc32c"
      },
      "outputs": [],
      "source": [
        "# the administration is insignificant and hence ,\n",
        "#individual linear regression models is created for Administration and Marketing spend\n"
      ]
    },
    {
      "cell_type": "code",
      "execution_count": null,
      "id": "0a16e9d5",
      "metadata": {
        "id": "0a16e9d5"
      },
      "outputs": [],
      "source": [
        "# SLR for Administration\n",
        "slr_a = smf.ols('Profit~Administration',data=pt).fit()"
      ]
    },
    {
      "cell_type": "code",
      "execution_count": null,
      "id": "c0d93da7",
      "metadata": {
        "id": "c0d93da7"
      },
      "outputs": [],
      "source": [
        "slr_a.summary()\n",
        "# Administartion is insignificant"
      ]
    },
    {
      "cell_type": "code",
      "execution_count": null,
      "id": "f445b3f4",
      "metadata": {
        "id": "f445b3f4"
      },
      "outputs": [],
      "source": [
        "slr_m = smf.ols('Profit~MarketingSpend',data=pt).fit()"
      ]
    },
    {
      "cell_type": "code",
      "execution_count": null,
      "id": "1f9067a4",
      "metadata": {
        "id": "1f9067a4"
      },
      "outputs": [],
      "source": [
        "slr_m.summary()\n",
        "# marketing spend has significant value"
      ]
    },
    {
      "cell_type": "code",
      "execution_count": null,
      "id": "7176f187",
      "metadata": {
        "id": "7176f187"
      },
      "outputs": [],
      "source": [
        "mlr_am=smf.ols('Profit~Administration+MarketingSpend',data=pt).fit()"
      ]
    },
    {
      "cell_type": "code",
      "execution_count": null,
      "id": "3c95adf9",
      "metadata": {
        "id": "3c95adf9"
      },
      "outputs": [],
      "source": [
        "mlr_am.summary()\n",
        "# both Administration and Markting spend has significant values\n",
        "# but the R-squared:\t0.610"
      ]
    },
    {
      "cell_type": "code",
      "execution_count": null,
      "id": "de455073",
      "metadata": {
        "id": "de455073"
      },
      "outputs": [],
      "source": [
        "# validating model\n",
        "# two techniques  1.VIF   2. Residual analysis\n",
        "#1.Vif\n",
        "rsq_Administration = smf.ols('Administration~RnDSpend+MarketingSpend',data=pt).fit().rsquared\n",
        "vif_Administration = 1/(1-rsq_Administration)\n",
        "\n",
        "rsq_RnDSpend = smf.ols('RnDSpend~Administration+MarketingSpend',data=pt).fit().rsquared\n",
        "vif_RnDSpend = 1/(1-rsq_RnDSpend)\n",
        "\n",
        "rsq_MarketingSpend = smf.ols('MarketingSpend~RnDSpend+Administration',data=pt).fit().rsquared\n",
        "vif_MarketingSpend = 1/(1-rsq_MarketingSpend)\n",
        "\n",
        "# Storing vif values in a data frame\n",
        "d1 = {'Variables':['Administration','RnDSpend','MarketingSpend'],'VIF':[vif_Administration,vif_RnDSpend,vif_MarketingSpend]}\n",
        "Vif_frame = pd.DataFrame(d1)\n",
        "Vif_frame"
      ]
    },
    {
      "cell_type": "code",
      "execution_count": null,
      "id": "cafaca51",
      "metadata": {
        "id": "cafaca51"
      },
      "outputs": [],
      "source": [
        "# all the VIF values are less than 20 and hence all the variables are taken into consideration"
      ]
    },
    {
      "cell_type": "code",
      "execution_count": null,
      "id": "35b9d2bf",
      "metadata": {
        "id": "35b9d2bf"
      },
      "outputs": [],
      "source": [
        "## 2. Residual analysis\n",
        "#Test for Normality of Residuals (Q-Q Plot)\n",
        "qqplot=sm.qqplot(model.resid,line='q') # line ='q'  is the 45 to draw the diagnoal line\n",
        "plt.title(\"Normal Q-Q plot of residuals\")\n",
        "plt.show()"
      ]
    },
    {
      "cell_type": "code",
      "execution_count": null,
      "id": "5c4cc8ea",
      "metadata": {
        "id": "5c4cc8ea"
      },
      "outputs": [],
      "source": [
        "list(np.where(model.resid<-20000))\n",
        "# the index no 49 is to be taken into consideration"
      ]
    },
    {
      "cell_type": "code",
      "execution_count": null,
      "id": "d4645df1",
      "metadata": {
        "id": "d4645df1"
      },
      "outputs": [],
      "source": [
        "#Residual Plot for Homoscedasticity or hetroscedasticity\n",
        "def get_standardized_values( vals ):\n",
        "    return (vals - vals.mean())/vals.std()  # ei vs fitted values"
      ]
    },
    {
      "cell_type": "code",
      "execution_count": null,
      "id": "83dd66e2",
      "metadata": {
        "id": "83dd66e2"
      },
      "outputs": [],
      "source": [
        "plt.scatter(get_standardized_values(model.fittedvalues),\n",
        "            get_standardized_values(model.resid))\n",
        "\n",
        "plt.title('Residual Plot')\n",
        "plt.xlabel('Standardized Fitted values')\n",
        "plt.ylabel('Standardized residual values')\n",
        "plt.show()\n",
        "# no pattern and hence no problems"
      ]
    },
    {
      "cell_type": "code",
      "execution_count": null,
      "id": "29871aee",
      "metadata": {
        "id": "29871aee"
      },
      "outputs": [],
      "source": [
        "# regressor vs Residuals\n",
        "fig = plt.figure(figsize=(15,8))\n",
        "fig = sm.graphics.plot_regress_exog(model, \"Administration\", fig=fig)\n",
        "plt.show()"
      ]
    },
    {
      "cell_type": "code",
      "execution_count": null,
      "id": "ac257f6d",
      "metadata": {
        "id": "ac257f6d"
      },
      "outputs": [],
      "source": [
        "fig = plt.figure(figsize=(15,8))\n",
        "fig = sm.graphics.plot_regress_exog(model, \"MarketingSpend\", fig=fig)\n",
        "plt.show()"
      ]
    },
    {
      "cell_type": "code",
      "execution_count": null,
      "id": "b47b48dd",
      "metadata": {
        "id": "b47b48dd"
      },
      "outputs": [],
      "source": [
        "fig = plt.figure(figsize=(15,8))\n",
        "fig = sm.graphics.plot_regress_exog(model, \"RnDSpend\", fig=fig)\n",
        "plt.show()"
      ]
    },
    {
      "cell_type": "code",
      "execution_count": null,
      "id": "8ab49428",
      "metadata": {
        "id": "8ab49428"
      },
      "outputs": [],
      "source": [
        "#model deletion diagonistics\n",
        "#detection of outliers/influencres\n",
        "#cooks distance\n",
        "model_influence = model.get_influence()\n",
        "(c, _) = model_influence.cooks_distance"
      ]
    },
    {
      "cell_type": "code",
      "execution_count": null,
      "id": "56dca3d0",
      "metadata": {
        "id": "56dca3d0"
      },
      "outputs": [],
      "source": [
        "#Plot the influencers values using stem plot\n",
        "fig = plt.subplots(figsize=(20, 7))\n",
        "plt.stem(np.arange(len(pt)), np.round(c, 3))\n",
        "plt.xlabel('Row index')\n",
        "plt.ylabel('Cooks Distance')\n",
        "plt.show()"
      ]
    },
    {
      "cell_type": "code",
      "execution_count": null,
      "id": "a11cd6a3",
      "metadata": {
        "id": "a11cd6a3"
      },
      "outputs": [],
      "source": [
        "#index and value of influencer where c is more than .5\n",
        "(np.argmax(c),np.max(c))"
      ]
    },
    {
      "cell_type": "code",
      "execution_count": null,
      "id": "8ce8af3b",
      "metadata": {
        "id": "8ce8af3b"
      },
      "outputs": [],
      "source": [
        "#high influence points\n",
        "from statsmodels.graphics.regressionplots import influence_plot\n",
        "influence_plot(model)\n",
        "plt.show()"
      ]
    },
    {
      "cell_type": "code",
      "execution_count": null,
      "id": "d3e82a54",
      "metadata": {
        "id": "d3e82a54"
      },
      "outputs": [],
      "source": [
        "k = pt.shape[1]\n",
        "n = pt.shape[0]\n",
        "leverage_cutoff = 3*((k + 1)/n)\n",
        "leverage_cutoff\n"
      ]
    },
    {
      "cell_type": "code",
      "execution_count": null,
      "id": "daa5c779",
      "metadata": {
        "id": "daa5c779"
      },
      "outputs": [],
      "source": [
        "#from the above plot it is evident that the value 49 is the influencer\n",
        "pt[pt.index.isin([49])]"
      ]
    },
    {
      "cell_type": "code",
      "execution_count": null,
      "id": "65128a48",
      "metadata": {
        "id": "65128a48"
      },
      "outputs": [],
      "source": [
        "#imporoving the model\n",
        "pt_new=pd.read_csv('50_Startups.csv')"
      ]
    },
    {
      "cell_type": "code",
      "execution_count": null,
      "id": "478363c9",
      "metadata": {
        "id": "478363c9"
      },
      "outputs": [],
      "source": [
        "pt_new.head()"
      ]
    },
    {
      "cell_type": "code",
      "execution_count": null,
      "id": "6fd32e2f",
      "metadata": {
        "id": "6fd32e2f"
      },
      "outputs": [],
      "source": [
        "pt1=pt_new.drop(pt_new.index[[49]],axis=0).reset_index()"
      ]
    },
    {
      "cell_type": "code",
      "execution_count": null,
      "id": "437f6b1f",
      "metadata": {
        "id": "437f6b1f"
      },
      "outputs": [],
      "source": [
        "#Drop the original index\n",
        "pt1=pt1.drop(['index'],axis=1)"
      ]
    },
    {
      "cell_type": "code",
      "execution_count": null,
      "id": "6767f5cb",
      "metadata": {
        "id": "6767f5cb"
      },
      "outputs": [],
      "source": [
        "pt1"
      ]
    },
    {
      "cell_type": "code",
      "execution_count": null,
      "id": "75f7a70a",
      "metadata": {
        "id": "75f7a70a"
      },
      "outputs": [],
      "source": [
        "#model building\n",
        "model2 = smf.ols('Profit~RnDSpend+Administration+MarketingSpend',data=pt1).fit()"
      ]
    },
    {
      "cell_type": "code",
      "execution_count": null,
      "id": "eccf44bd",
      "metadata": {
        "id": "eccf44bd"
      },
      "outputs": [],
      "source": [
        "model2.summary()"
      ]
    },
    {
      "cell_type": "code",
      "execution_count": null,
      "id": "ac2666e2",
      "metadata": {
        "id": "ac2666e2"
      },
      "outputs": [],
      "source": [
        "#final model is model2\n",
        "(model2.rsquared,model2.aic)"
      ]
    },
    {
      "cell_type": "code",
      "execution_count": null,
      "id": "c88d866d",
      "metadata": {
        "id": "c88d866d"
      },
      "outputs": [],
      "source": [
        "#model predictions\n",
        "#x=input(\"enter the R&D spend:\")\n",
        "#y=input(\"enter the Administration spend :\")\n",
        "#z=input(\"enter the Marketing spend:\")\n",
        "new_data=pd.DataFrame({'RnDSpend':150000,'Administration':100000,'MarketingSpend':400000},index=[1])\n",
        "new_data"
      ]
    },
    {
      "cell_type": "code",
      "execution_count": null,
      "id": "c932dc73",
      "metadata": {
        "id": "c932dc73"
      },
      "outputs": [],
      "source": [
        "model2.predict(new_data)"
      ]
    },
    {
      "cell_type": "code",
      "execution_count": null,
      "id": "f827c499",
      "metadata": {
        "id": "f827c499"
      },
      "outputs": [],
      "source": [
        "model2.predict(pt1.iloc[0:5,])"
      ]
    }
  ],
  "metadata": {
    "kernelspec": {
      "display_name": "Python 3 (ipykernel)",
      "language": "python",
      "name": "python3"
    },
    "language_info": {
      "codemirror_mode": {
        "name": "ipython",
        "version": 3
      },
      "file_extension": ".py",
      "mimetype": "text/x-python",
      "name": "python",
      "nbconvert_exporter": "python",
      "pygments_lexer": "ipython3",
      "version": "3.9.13"
    },
    "colab": {
      "provenance": [],
      "include_colab_link": true
    }
  },
  "nbformat": 4,
  "nbformat_minor": 5
}