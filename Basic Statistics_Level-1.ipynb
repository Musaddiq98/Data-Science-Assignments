{
  "nbformat": 4,
  "nbformat_minor": 0,
  "metadata": {
    "colab": {
      "provenance": [],
      "authorship_tag": "ABX9TyP97BYuCzqLbOJGzdKR2qb5",
      "include_colab_link": true
    },
    "kernelspec": {
      "name": "python3",
      "display_name": "Python 3"
    },
    "language_info": {
      "name": "python"
    }
  },
  "cells": [
    {
      "cell_type": "markdown",
      "metadata": {
        "id": "view-in-github",
        "colab_type": "text"
      },
      "source": [
        "<a href=\"https://colab.research.google.com/github/Musaddiq98/Data-Science-Assignments/blob/main/Assignment_1.ipynb\" target=\"_parent\"><img src=\"https://colab.research.google.com/assets/colab-badge.svg\" alt=\"Open In Colab\"/></a>"
      ]
    },
    {
      "cell_type": "code",
      "execution_count": null,
      "metadata": {
        "colab": {
          "base_uri": "https://localhost:8080/"
        },
        "id": "RXTwzM-yllGb",
        "outputId": "6c012e63-a707-4ba5-c962-f36e19ab5cc5"
      },
      "outputs": [
        {
          "output_type": "stream",
          "name": "stdout",
          "text": [
            "All possible outcomes: [('H', 'H', 'H'), ('H', 'H', 'T'), ('H', 'T', 'H'), ('H', 'T', 'T'), ('T', 'H', 'H'), ('T', 'H', 'T'), ('T', 'T', 'H'), ('T', 'T', 'T')]\n",
            "Probability of getting two heads and one tail: 0.375\n"
          ]
        }
      ],
      "source": [
        "from itertools import product\n",
        "\n",
        "def calculate_probability(outcomes, target):\n",
        "    favorable_outcomes = 0\n",
        "    total_outcomes = len(outcomes)\n",
        "\n",
        "    for outcome in outcomes:\n",
        "        if outcome.count('H') == target['H'] and outcome.count('T') == target['T']:\n",
        "            favorable_outcomes += 1\n",
        "\n",
        "    probability = favorable_outcomes / total_outcomes\n",
        "    return probability\n",
        "\n",
        "coin_outcomes = ['H', 'T']\n",
        "all_possible_outcomes = list(product(coin_outcomes, repeat=3))\n",
        "\n",
        "target_outcomes = {'H': 2, 'T': 1}\n",
        "probability = calculate_probability(all_possible_outcomes, target_outcomes)\n",
        "\n",
        "print(\"All possible outcomes:\", all_possible_outcomes)\n",
        "print(\"Probability of getting two heads and one tail:\", probability)\n"
      ]
    },
    {
      "cell_type": "code",
      "source": [
        "import pandas as pd\n",
        "import numpy as np\n",
        "\n",
        "df = pd.read_csv('Q7.csv')\n",
        "\n",
        "# Points\n",
        "points_mean = df['Points'].mean()\n",
        "points_median = df['Points'].median()\n",
        "points_mode = df['Points'].mode()[0]\n",
        "points_var = df['Points'].var()\n",
        "points_std = df['Points'].std()\n",
        "points_range = df['Points'].max() - df['Points'].min()\n",
        "\n",
        "print(\"Points Mean:\", points_mean)\n",
        "print(\"Points Median:\", points_median)\n",
        "print(\"Points Mode:\", points_mode)\n",
        "print(\"Points Variance:\", points_var)\n",
        "print(\"Points Std Dev:\", points_std)\n",
        "print(\"Points Range:\", points_range)\n",
        "\n",
        "# Score\n",
        "score_mean = df['Score'].mean()\n",
        "score_median = df['Score'].median()\n",
        "score_mode = df['Score'].mode()[0]\n",
        "score_var = df['Score'].var()\n",
        "score_std = df['Score'].std()\n",
        "score_range = df['Score'].max() - df['Score'].min()\n",
        "\n",
        "print(\"\\nScore Mean:\", score_mean)\n",
        "print(\"Score Median:\", score_median)\n",
        "print(\"Score Mode:\", score_mode)\n",
        "print(\"Score Variance:\", score_var)\n",
        "print(\"Score Std Dev:\", score_std)\n",
        "print(\"Score Range:\", score_range)\n",
        "\n",
        "# Weigh\n",
        "weigh_mean = df['Weigh'].mean()\n",
        "weigh_median = df['Weigh'].median()\n",
        "weigh_mode = df['Weigh'].mode()[0]\n",
        "weigh_var = df['Weigh'].var()\n",
        "weigh_std = df['Weigh'].std()\n",
        "weigh_range = df['Weigh'].max() - df['Weigh'].min()\n",
        "\n",
        "print(\"\\nWeigh Mean:\", weigh_mean)\n",
        "print(\"Weigh Median:\", weigh_median)\n",
        "print(\"Weigh Mode:\", weigh_mode)\n",
        "print(\"Weigh Variance:\", weigh_var)\n",
        "print(\"Weigh Std Dev:\", weigh_std)\n",
        "print(\"Weigh Range:\", weigh_range)\n",
        "\n",
        "# Inferences\n",
        "print(\"\\nPoints and Score have similar means and medians indicating symmetric distributions.\")\n",
        "print(\"Weigh has a lower mean than median indicating left skew.\")\n",
        "print(\"The standard deviations quantify the spread in each column.\")\n",
        "print(\"The ranges show the full spreads between min and max values.\")"
      ],
      "metadata": {
        "colab": {
          "base_uri": "https://localhost:8080/"
        },
        "id": "yz3zGTkPpWmP",
        "outputId": "e49e26c2-f7db-4d56-ed9f-2d4913921b75"
      },
      "execution_count": null,
      "outputs": [
        {
          "output_type": "stream",
          "name": "stdout",
          "text": [
            "Points Mean: 3.5965625\n",
            "Points Median: 3.6950000000000003\n",
            "Points Mode: 3.07\n",
            "Points Variance: 0.2858813508064516\n",
            "Points Std Dev: 0.5346787360709715\n",
            "Points Range: 2.17\n",
            "\n",
            "Score Mean: 3.2172500000000004\n",
            "Score Median: 3.325\n",
            "Score Mode: 3.44\n",
            "Score Variance: 0.9573789677419354\n",
            "Score Std Dev: 0.9784574429896966\n",
            "Score Range: 3.9110000000000005\n",
            "\n",
            "Weigh Mean: 17.848750000000003\n",
            "Weigh Median: 17.71\n",
            "Weigh Mode: 17.02\n",
            "Weigh Variance: 3.193166129032258\n",
            "Weigh Std Dev: 1.7869432360968431\n",
            "Weigh Range: 8.399999999999999\n",
            "\n",
            "Points and Score have similar means and medians indicating symmetric distributions.\n",
            "Weigh has a lower mean than median indicating left skew.\n",
            "The standard deviations quantify the spread in each column.\n",
            "The ranges show the full spreads between min and max values.\n"
          ]
        }
      ]
    },
    {
      "cell_type": "code",
      "source": [
        "import numpy as np\n",
        "\n",
        "weights = [108, 110, 123, 134, 135, 145, 167, 187, 199]\n",
        "\n",
        "# There are 9 patients, so probability of each is 1/9\n",
        "p = 1/9\n",
        "\n",
        "# Calculate expected value\n",
        "ev = 0\n",
        "for weight in weights:\n",
        "    ev += weight * p\n",
        "\n",
        "print(\"Expected value:\", ev)"
      ],
      "metadata": {
        "colab": {
          "base_uri": "https://localhost:8080/"
        },
        "id": "wj92ocBTrsIG",
        "outputId": "efb93b0e-be5a-48c8-a71a-17c5b655f894"
      },
      "execution_count": null,
      "outputs": [
        {
          "output_type": "stream",
          "name": "stdout",
          "text": [
            "Expected value: 145.33333333333331\n"
          ]
        }
      ]
    },
    {
      "cell_type": "code",
      "source": [
        "import pandas as pd\n",
        "from scipy.stats import skew, kurtosis\n",
        "\n",
        "df = pd.read_csv('Q9_a.csv')\n",
        "\n",
        "speed = df['speed']\n",
        "dist = df['dist']\n",
        "\n",
        "speed_skew = skew(speed)\n",
        "speed_kurtosis = kurtosis(speed)\n",
        "\n",
        "print(\"Skewness of speed:\", speed_skew)\n",
        "print(\"Kurtosis of speed:\", speed_kurtosis)\n",
        "\n",
        "dist_skew = skew(dist)\n",
        "dist_kurtosis = kurtosis(dist)\n",
        "\n",
        "print(\"\\nSkewness of dist:\", dist_skew)\n",
        "print(\"Kurtosis of dist:\", dist_kurtosis)\n",
        "\n",
        "# Inferences\n",
        "print(\"\\nSpeed is quite symmetric with skew close to 0.\")\n",
        "print(\"Speed kurtosis is also close to 0, indicating near normal distribution.\")\n",
        "\n",
        "print(\"\\nDistance is positively skewed indicating more low values.\")\n",
        "print(\"Higher kurtosis indicates heavier tails than normal distribution.\")"
      ],
      "metadata": {
        "colab": {
          "base_uri": "https://localhost:8080/"
        },
        "id": "oqmOZsmXvBwE",
        "outputId": "f4c08508-463f-4674-e809-38c2353896cf"
      },
      "execution_count": null,
      "outputs": [
        {
          "output_type": "stream",
          "name": "stdout",
          "text": [
            "Skewness of speed: -0.11395477012828319\n",
            "Kurtosis of speed: -0.5771474239437371\n",
            "\n",
            "Skewness of dist: 0.7824835173114966\n",
            "Kurtosis of dist: 0.24801865717051808\n",
            "\n",
            "Speed is quite symmetric with skew close to 0.\n",
            "Speed kurtosis is also close to 0, indicating near normal distribution.\n",
            "\n",
            "Distance is positively skewed indicating more low values.\n",
            "Higher kurtosis indicates heavier tails than normal distribution.\n"
          ]
        }
      ]
    },
    {
      "cell_type": "code",
      "source": [
        "import pandas as pd\n",
        "from scipy.stats import skew, kurtosis\n",
        "\n",
        "df = pd.read_csv('Q9_b.csv')\n",
        "\n",
        "sp = df['SP']\n",
        "wt = df['WT']\n",
        "\n",
        "sp_skew = skew(sp)\n",
        "sp_kurtosis = kurtosis(sp)\n",
        "\n",
        "print(\"Skewness of SP:\", sp_skew)\n",
        "print(\"Kurtosis of SP:\", sp_kurtosis)\n",
        "\n",
        "wt_skew = skew(wt)\n",
        "wt_kurtosis = kurtosis(wt)\n",
        "\n",
        "print(\"\\nSkewness of WT:\", wt_skew)\n",
        "print(\"Kurtosis of WT:\", wt_kurtosis)\n",
        "\n",
        "# Interpretation\n",
        "print(\"\\nSP is slightly positively skewed based on skewness value.\")\n",
        "print(\"SP kurtosis is close to 0, indicating near normal distribution.\")\n",
        "\n",
        "print(\"\\nWT is more heavily skewed with higher positive skewness.\")\n",
        "print(\"Higher kurtosis indicates heavier tails than normal for WT.\")"
      ],
      "metadata": {
        "colab": {
          "base_uri": "https://localhost:8080/"
        },
        "id": "l1Gd97OowIkX",
        "outputId": "5b3c5aaf-3b17-4ef3-f63c-06412d025193"
      },
      "execution_count": null,
      "outputs": [
        {
          "output_type": "stream",
          "name": "stdout",
          "text": [
            "Skewness of SP: 1.5814536794423764\n",
            "Kurtosis of SP: 2.7235214865269244\n",
            "\n",
            "Skewness of WT: -0.6033099322115126\n",
            "Kurtosis of WT: 0.8194658792266849\n",
            "\n",
            "SP is slightly positively skewed based on skewness value.\n",
            "SP kurtosis is close to 0, indicating near normal distribution.\n",
            "\n",
            "WT is more heavily skewed with higher positive skewness.\n",
            "Higher kurtosis indicates heavier tails than normal for WT.\n"
          ]
        }
      ]
    },
    {
      "cell_type": "code",
      "source": [
        "import numpy as np\n",
        "\n",
        "# Population parameters\n",
        "N = 3000000\n",
        "mu = 200 # Sample mean\n",
        "sigma = 30 # Sample standard deviation\n",
        "\n",
        "n = 2000 # Sample size\n",
        "\n",
        "# Calculate standard error\n",
        "se = sigma / np.sqrt(n)\n",
        "\n",
        "# Z scores for confidence levels\n",
        "z_94 = 1.88 # 94% CI\n",
        "z_98 = 2.33 # 98% CI\n",
        "z_96 = 2.05 # 96% CI\n",
        "\n",
        "# Calculate margin of error\n",
        "margin_94 = z_94 * se\n",
        "margin_98 = z_98 * se\n",
        "margin_96 = z_96 * se\n",
        "\n",
        "# Calculate confidence intervals\n",
        "lower_94 = mu - margin_94\n",
        "upper_94 = mu + margin_94\n",
        "print(f\"94% CI: ({lower_94:.2f}, {upper_94:.2f})\")\n",
        "\n",
        "lower_98 = mu - margin_98\n",
        "upper_98 = mu + margin_98\n",
        "print(f\"98% CI: ({lower_98:.2f}, {upper_98:.2f})\")\n",
        "\n",
        "lower_96 = mu - margin_96\n",
        "upper_96 = mu + margin_96\n",
        "print(f\"96% CI: ({lower_96:.2f}, {upper_96:.2f})\")"
      ],
      "metadata": {
        "colab": {
          "base_uri": "https://localhost:8080/"
        },
        "id": "R5KTh4tewUff",
        "outputId": "25a685fc-0b16-45ee-d622-8aa4a34c10e6"
      },
      "execution_count": null,
      "outputs": [
        {
          "output_type": "stream",
          "name": "stdout",
          "text": [
            "94% CI: (198.74, 201.26)\n",
            "98% CI: (198.44, 201.56)\n",
            "96% CI: (198.62, 201.38)\n"
          ]
        }
      ]
    },
    {
      "cell_type": "code",
      "source": [
        "import numpy as np\n",
        "\n",
        "scores = [34,36,36,38,38,39,39,40,40,41,41,41,41,42,42,45,49,56]\n",
        "\n",
        "mean = np.mean(scores)\n",
        "median = np.median(scores)\n",
        "variance = np.var(scores)\n",
        "std_dev = np.std(scores)\n",
        "\n",
        "print(\"Mean:\", mean)\n",
        "print(\"Median:\", median)\n",
        "print(\"Variance:\", variance)\n",
        "print(\"Standard Deviation:\", std_dev)"
      ],
      "metadata": {
        "colab": {
          "base_uri": "https://localhost:8080/"
        },
        "id": "cDCsVQwaxVrt",
        "outputId": "aee2dcfd-dec6-446f-aef9-63611eab09b8"
      },
      "execution_count": null,
      "outputs": [
        {
          "output_type": "stream",
          "name": "stdout",
          "text": [
            "Mean: 41.0\n",
            "Median: 40.5\n",
            "Variance: 24.11111111111111\n",
            "Standard Deviation: 4.910306620885412\n"
          ]
        }
      ]
    },
    {
      "cell_type": "code",
      "source": [
        "import pandas as pd\n",
        "\n",
        "df = pd.read_csv('Cars.csv')\n",
        "mpg = df['MPG']\n",
        "\n",
        "a = len(mpg[mpg > 38]) / len(mpg)\n",
        "print(\"P(MPG > 38):\", a)\n",
        "\n",
        "b = len(mpg[mpg < 40]) / len(mpg)\n",
        "print(\"P(MPG < 40):\", b)\n",
        "\n",
        "c = len(mpg[(mpg > 20) & (mpg < 50)]) / len(mpg)\n",
        "print(\"P(20 < MPG < 50):\", c)"
      ],
      "metadata": {
        "colab": {
          "base_uri": "https://localhost:8080/"
        },
        "id": "lQXBqcisyD1M",
        "outputId": "767e73e1-2cc9-4e65-9702-2faa66017512"
      },
      "execution_count": null,
      "outputs": [
        {
          "output_type": "stream",
          "name": "stdout",
          "text": [
            "P(MPG > 38): 0.4074074074074074\n",
            "P(MPG < 40): 0.7530864197530864\n",
            "P(20 < MPG < 50): 0.8518518518518519\n"
          ]
        }
      ]
    },
    {
      "cell_type": "code",
      "source": [
        "import pandas as pd\n",
        "from scipy.stats import shapiro\n",
        "import matplotlib.pyplot as plt\n",
        "\n",
        "df = pd.read_csv('Cars.csv')\n",
        "\n",
        "mpg = df['MPG']\n",
        "\n",
        "# Visualize distribution\n",
        "plt.hist(mpg, bins=20)\n",
        "plt.title('MPG Distribution')\n",
        "plt.show()\n",
        "\n",
        "\n",
        "# Interpretation\n",
        "alpha = 0.05\n",
        "if p > alpha:\n",
        "    print('MPG appears normally distributed (fail to reject H0)')\n",
        "else:\n",
        "    print('MPG does not appear normally distributed (reject H0)')"
      ],
      "metadata": {
        "colab": {
          "base_uri": "https://localhost:8080/",
          "height": 470
        },
        "id": "hCng4YZ1zpG6",
        "outputId": "3d2d82f6-0a4d-42d8-942e-f4d41b9e07c4"
      },
      "execution_count": null,
      "outputs": [
        {
          "output_type": "display_data",
          "data": {
            "text/plain": [
              "<Figure size 640x480 with 1 Axes>"
            ],
            "image/png": "[encoded data removed]"
          },
          "metadata": {}
        },
        {
          "output_type": "stream",
          "name": "stdout",
          "text": [
            "MPG appears normally distributed (fail to reject H0)\n"
          ]
        }
      ]
    },
    {
      "cell_type": "code",
      "source": [
        "from scipy import stats\n",
        "\n",
        "# Z score for 90% CI\n",
        "z90 = stats.norm.ppf(0.95)\n",
        "print(\"Z score for 90% CI:\", z90)\n",
        "\n",
        "# Z score for 94% CI\n",
        "z94 = stats.norm.ppf(0.97)\n",
        "print(\"Z score for 94% CI:\", z94)\n",
        "\n",
        "# Z score for 60% CI\n",
        "z60 = stats.norm.ppf(0.8)\n",
        "print(\"Z score for 60% CI:\", z60)"
      ],
      "metadata": {
        "colab": {
          "base_uri": "https://localhost:8080/"
        },
        "id": "vAGJIAGQ1LUQ",
        "outputId": "3e38c9d5-0f10-49f2-d8ea-f2d4be9e4efe"
      },
      "execution_count": null,
      "outputs": [
        {
          "output_type": "stream",
          "name": "stdout",
          "text": [
            "Z score for 90% CI: 1.6448536269514722\n",
            "Z score for 94% CI: 1.8807936081512509\n",
            "Z score for 60% CI: 0.8416212335729143\n"
          ]
        }
      ]
    },
    {
      "cell_type": "code",
      "source": [
        "from scipy.stats import t\n",
        "\n",
        "# Sample size\n",
        "n = 25\n",
        "df = n - 1 # degrees of freedom\n",
        "\n",
        "# t score for 95% CI\n",
        "t_95 = t.ppf(0.975, df)\n",
        "print(\"t score for 95% CI:\", t_95)\n",
        "\n",
        "# t score for 96% CI\n",
        "t_96 = t.ppf(0.98, df)\n",
        "print(\"t score for 96% CI:\", t_96)\n",
        "\n",
        "# t score for 99% CI\n",
        "t_99 = t.ppf(0.995, df)\n",
        "print(\"t score for 99% CI:\", t_99)"
      ],
      "metadata": {
        "colab": {
          "base_uri": "https://localhost:8080/"
        },
        "id": "cfrpVzbH2vKu",
        "outputId": "f805bc1a-8dd2-4b4f-9d1a-f6eef1c0d9fc"
      },
      "execution_count": null,
      "outputs": [
        {
          "output_type": "stream",
          "name": "stdout",
          "text": [
            "t score for 95% CI: 2.0638985616280205\n",
            "t score for 96% CI: 2.1715446760080677\n",
            "t score for 99% CI: 2.796939504772804\n"
          ]
        }
      ]
    },
    {
      "cell_type": "code",
      "source": [
        "import scipy.stats as stats\n",
        "\n",
        "# Population mean\n",
        "mu = 270\n",
        "\n",
        "# Sample size\n",
        "n = 18\n",
        "\n",
        "# Sample mean\n",
        "x_bar = 260\n",
        "\n",
        "# Sample standard deviation\n",
        "s = 90\n",
        "\n",
        "# Calculate z-score\n",
        "z = (x_bar - mu) / (s/np.sqrt(n))\n",
        "\n",
        "# Find probability from z-score\n",
        "p = stats.norm.cdf(z)\n",
        "\n",
        "print(\"The probability is:\", p)"
      ],
      "metadata": {
        "colab": {
          "base_uri": "https://localhost:8080/"
        },
        "id": "uNNDddLq34Ft",
        "outputId": "c8083fc3-3cef-44f7-a9f2-59155edaca58"
      },
      "execution_count": null,
      "outputs": [
        {
          "output_type": "stream",
          "name": "stdout",
          "text": [
            "The probability is: 0.31867594411696853\n"
          ]
        }
      ]
    }
  ]
}
